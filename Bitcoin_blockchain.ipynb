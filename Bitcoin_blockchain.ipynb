{
  "nbformat": 4,
  "nbformat_minor": 0,
  "metadata": {
    "colab": {
      "provenance": [],
      "authorship_tag": "ABX9TyPkegy6oYcVwDmynSoSm9Ut",
      "include_colab_link": true
    },
    "kernelspec": {
      "name": "python3",
      "display_name": "Python 3"
    },
    "language_info": {
      "name": "python"
    }
  },
  "cells": [
    {
      "cell_type": "markdown",
      "metadata": {
        "id": "view-in-github",
        "colab_type": "text"
      },
      "source": [
        "<a href=\"https://colab.research.google.com/github/DaniloTovar/Blockchain1/blob/main/Bitcoin_blockchain.ipynb\" target=\"_parent\"><img src=\"https://colab.research.google.com/assets/colab-badge.svg\" alt=\"Open In Colab\"/></a>"
      ]
    },
    {
      "cell_type": "markdown",
      "source": [
        "# Ejemplo de blockchain de Bitcoin\n",
        "Ejercicio practico para replicar parcialmente las funcionalidades del blockchain de Bitcoin basado en el [white paper](https://bitcoin.org/bitcoin.pdf) del mismo.\n",
        "\n",
        "Por favor ejecutar las celdas secuencialmente."
      ],
      "metadata": {
        "id": "JCaS5WWFtnMf"
      }
    },
    {
      "cell_type": "markdown",
      "source": [
        "## Importación de librerias"
      ],
      "metadata": {
        "id": "VRwtZYC9yVFT"
      }
    },
    {
      "cell_type": "code",
      "source": [
        "import numpy as np\n",
        "import hashlib as hlib\n",
        "import itertools\n",
        "import multipledispatch"
      ],
      "metadata": {
        "id": "f3CJnYvu_n-S"
      },
      "execution_count": 1,
      "outputs": []
    },
    {
      "cell_type": "markdown",
      "source": [
        "## Funciones adicionales\n"
      ],
      "metadata": {
        "id": "HgERkRqS_2qF"
      }
    },
    {
      "cell_type": "code",
      "source": [
        "# Funcion para realizar un hash con SHA-256 a un string\n",
        "def hash(value):\n",
        "  \"\"\"\n",
        "  Encrypts 'value' using a SHA-256 algorithm and returns the result\n",
        "  \"\"\"\n",
        "  assert type(value) == str, \"Wrong input type, 'value' should be a String\"\n",
        "  return hlib.sha256(value.encode()).hexdigest()\n",
        "\n",
        "# Funcion para realizar un hash a cada elemento de a una lista de strings, utilizando la funcion 'hash'\n",
        "def hashList(input):\n",
        "  \"\"\"\n",
        "  Encrypts each element of 'input' using a SHA-256 algorithm\n",
        "  \"\"\"\n",
        "  assert type(input) == list, \"Wrong input type, 'input' should be a List\"\n",
        "  aux = []\n",
        "  for i in input:\n",
        "    try:\n",
        "      aux.append(hash(i))\n",
        "    except(AttributeError, TypeError):\n",
        "      raise AssertionError(\"List should only contain Strings\")\n",
        "  return aux\n",
        "\n",
        "# Realiza el procedimiento de Merkle Tree para generar un Merkle root a partir de una lista de strings 'Transaccion' utilizando la funcion 'hash' y 'hashList'\n",
        "def getRoot(transactions):\n",
        "  \"\"\"\n",
        "  Calculates the Merkle Root from a list of 'transaction' using a SHA-256 algorithm\n",
        "  \"\"\"\n",
        "  assert type(transactions) == list, \"Wrong input type, 'transactions' should be a list\"\n",
        "  assert len(transactions) != 0, \"List of transactions cannot be empty\"\n",
        "\n",
        "  # Encontramos los hash iniciales de cada transaccion para luego empezar el proceso\n",
        "  transactions = hashList(transactions)\n",
        "\n",
        "  # Mientras no se halla encontrado el Merkle root, se va a seguir juntando pares\n",
        "  while(len(transactions)!= 1):\n",
        "    length = len(transactions)\n",
        "    next = []\n",
        "\n",
        "    # Si la lista es impar, se duplica el ultimo elemento de la lista\n",
        "    if(np.mod(length,2)):\n",
        "      last = transactions[-1]\n",
        "      transactions.append(last)\n",
        "      # print(last)\n",
        "\n",
        "    # Se juntan pares y se les realizan hash\n",
        "    for i in range(int(length/2)):\n",
        "      string = transactions[i+i] + transactions[i+i+1]\n",
        "      hashed = hash(string)\n",
        "      next.append(hashed)\n",
        "      # print(next)\n",
        "\n",
        "    # Se define el siguiente nivel sobre el que trabajar\n",
        "    transactions = next\n",
        "\n",
        "  # Al finalizar se retorna el root\n",
        "  return transactions[0]\n",
        "\n",
        "\n",
        "# Funcion para generar numeros aleatorios positivos con limite superior en 'top'\n",
        "def genNounce(top):\n",
        "  \"\"\"\n",
        "  Generates a random number between 0 and 'top'\n",
        "  \"\"\"\n",
        "  assert type(top) == int, \"Wrong input type, 'top' should be a number\"\n",
        "  return int(np.random.random()*np.random.random()*top)"
      ],
      "metadata": {
        "id": "UTkgh_DH_5YM"
      },
      "execution_count": 2,
      "outputs": []
    },
    {
      "cell_type": "markdown",
      "source": [
        "## Clases a utilizar para la construcción de la blockchain"
      ],
      "metadata": {
        "id": "_GFBFnci_ICK"
      }
    },
    {
      "cell_type": "code",
      "source": [
        "# Clase Wallet: Representa la wallet, donde se almacenan las \"llaves\", una lista de las transacciones sin gastar (abiertas) y el balance total disponible\n",
        "class Wallet:\n",
        "  \"\"\"\n",
        "  A class that represents a bitcoin Wallet\n",
        "  \"\"\"\n",
        "\n",
        "  # Inicializacion de la clase, donde se crea una instacia usando solo una \"llave\" privada.\n",
        "  def __init__(self, private):\n",
        "    \"\"\"\n",
        "    Class initializer that only needs the private key to use, it generates the public key, an empty open transactions list and starts with balance = 0\n",
        "    \"\"\"\n",
        "    self.private = private\n",
        "    self.public = hash(private)\n",
        "    self.open_tx = []\n",
        "    self.balance = 0\n",
        "\n",
        "  # Funcion utilizada para imprimir en consola las caracteristicas de la cuenta\n",
        "  def describe(self):\n",
        "    \"\"\"\n",
        "    Function that prints the state of the wallet\n",
        "    \"\"\"\n",
        "    return print(\"\\t   public: \", self.public,\"\\n\",\n",
        "          \"\\t   available transactions: \", self.open_tx,\"\\n\",\n",
        "          \"\\t   balance: \", self.balance,\"\\n\")\n",
        "\n",
        "  # Funcion utilizada para obtener un string inmutable posteriormente utilizado en la generacion del hash del bloque cuando es añadido a la cadena\n",
        "  # ('balance' y 'open_tx' pueden terminar generando un block hash diferente para el mismo bloque, por lo que no se tienen en cuenta)\n",
        "  def toString(self):\n",
        "    \"\"\"\n",
        "    Function that return a string used for the creation of the block hash, must be consistent after its been added to the chain\n",
        "    \"\"\"\n",
        "    return str(self.public)"
      ],
      "metadata": {
        "id": "Ff3-wTQTKP64"
      },
      "execution_count": 3,
      "outputs": []
    },
    {
      "cell_type": "code",
      "source": [
        "# Clase Output: Representa las salidas y mayoria de entradas de las transacciones, donde se almacenan la cantidad a enviar/utilizar,\n",
        "# el destinatario (owner), en que transaccion se encuentra y si ha sido gastado por otra transaccion\n",
        "class Output:\n",
        "  \"\"\"\n",
        "  A class that represents a transaction output, also used for most transaction inputs\n",
        "  \"\"\"\n",
        "\n",
        "  # Inicializacion de la clase, donde se crea una instacia usando la cantidad a enviar y el destinatario(owner).\n",
        "  def __init__(self, amount, to):\n",
        "    \"\"\"\n",
        "    Class initializer that needs the amount of bitcoins to send and the waller that is gonna recive them, defines 'id_tx' as -1 and 'spent' as False\n",
        "    \"\"\"\n",
        "    assert type(to) == Wallet, \"Wrong destination, should be a 'Wallet'\"\n",
        "    self.amount = amount\n",
        "    self.to = to\n",
        "    self.id_tx = -1\n",
        "    self.spent = False\n",
        "\n",
        "  # Funcion utilizada para imprimir en consola las caracteristicas del output\n",
        "  def describe(self):\n",
        "    \"\"\"\n",
        "    Function that prints the state of the output\n",
        "    \"\"\"\n",
        "    print(\"\\tamount: \", self.amount,\"\\n\",\n",
        "          \"\\tid_tx: \", self.id_tx,\"\\n\",\n",
        "          \"\\tspent: \", self.spent,\"\\n\")\n",
        "    print(\"\\twallet: \")\n",
        "    self.to.describe()\n",
        "    print(\"\\n\")\n",
        "\n",
        "\n",
        "  # Funcion utilizada para obtener un string inmutable posteriormente utilizado en la generacion del hash del bloque cuando es añadido a la cadena\n",
        "  # (el estado de 'spent' pueden terminar generando un block hash diferente para el mismo bloque, por lo que no se tienen en cuenta)\n",
        "  def toString(self):\n",
        "    \"\"\"\n",
        "    Function that return a string used for the creation of the block hash, must be consistent after its been added to the chain\n",
        "    \"\"\"\n",
        "    return str(self.amount) + (self.to.toString()) + str(self.id_tx)"
      ],
      "metadata": {
        "id": "A2GkPdAs_ZOr"
      },
      "execution_count": 4,
      "outputs": []
    },
    {
      "cell_type": "code",
      "source": [
        "# Clase Transaccion: Representa una transaccion y su realizacion, donde se almacenan una id para la transaccion, una lista de inputs,\n",
        "# una lista de outputs y el hash del bloque en el que se almacenó la transaccion una vez fué agregado a la cadena\n",
        "class Transaction:\n",
        "  \"\"\"\n",
        "  A class that represents a transaction between wallets\n",
        "  \"\"\"\n",
        "\n",
        "  # Id autoincremental comenzando en 1\n",
        "  id_tx = itertools.count(1)\n",
        "\n",
        "\n",
        "  # Constructor de una transaccion normal\n",
        "  @multipledispatch.dispatch(inputs = list, outputs = list)\n",
        "  def __init__(self, inputs, outputs):\n",
        "    \"\"\"\n",
        "    Class initializer that needs a list with the inputs (previous transaction output/s) and a list with the new outputs of the transaction.\n",
        "    Generates a self-increasing id and defines 'block_hash' as -1\n",
        "    \"\"\"\n",
        "    # Se genera la id para realizar verificaciones\n",
        "    new_id = next(Transaction.id_tx)\n",
        "\n",
        "    # Verificaciones sobre los parametros de entrada\n",
        "    assert all(((type(ins) == Output) & (ins.id_tx != new_id) & (ins.spent == False)) for ins in inputs), \"List of inputs should only contain previous unspent 'Output' objects\"\n",
        "    assert all(((type(out) == Output) & (out.id_tx == -1)) for out in outputs), \"List of outputs should only contain new 'Output' objects\"\n",
        "\n",
        "    # Primero, validamos que si se pueda realizar la transaccion\n",
        "    try:\n",
        "      check = []\n",
        "      check2 = []\n",
        "      for out in outputs:\n",
        "        check.append(out.amount)\n",
        "      for ins in inputs:\n",
        "        check2.append(ins.amount)\n",
        "      check = sum(check)   # Suma todos los amount de outputs\n",
        "      check2 = sum(check2)     # Suma todos los amount de inputs\n",
        "      if(check > check2):\n",
        "        raise ArithmeticError(\"Amount to output is higher than input amount\")\n",
        "    except:\n",
        "      raise ArithmeticError(\"Sum of operations is invalid\")\n",
        "\n",
        "    # Si la transaccion es valida, procedemos a realizar la transaccion\n",
        "    self.id = new_id\n",
        "    self.inputs = inputs\n",
        "    self.outputs = outputs\n",
        "    self.block_hash = -1\n",
        "\n",
        "    # Actualizamos las wallets\n",
        "      # Actualizamos los balances\n",
        "    for input in self.inputs:\n",
        "      input.to.balance -= input.amount\n",
        "    for output in self.outputs:\n",
        "      output.to.balance += output.amount\n",
        "\n",
        "      # Actualizamos la lista de trasacciones abiertas\n",
        "    for input in self.inputs:\n",
        "      input.to.open_tx.remove(input.id_tx)\n",
        "    for output in self.outputs:\n",
        "      output.to.open_tx.append(self.id)\n",
        "\n",
        "\n",
        "    for ins in inputs:\n",
        "      ins.spent = True        # Actualizamos los inputs como 'spent' cuando se genera esta transaccion\n",
        "\n",
        "    for out in outputs:\n",
        "      out.id_tx = self.id     # Actualizamos los outputs para relacionarlos a esta transaccion\n",
        "\n",
        "\n",
        "\n",
        "  # Constructor de un CoinBase\n",
        "  @multipledispatch.dispatch(Wallet)\n",
        "  def __init__(self, wallet):\n",
        "    \"\"\"\n",
        "    Class initializer that only needs a 'Wallet' destination, used to generate a CoinBase of 50 for that wallet\n",
        "    \"\"\"\n",
        "    self.id = next(Transaction.id_tx)\n",
        "    self.inputs = [0]\n",
        "    output0 = Output(50, wallet)\n",
        "    self.outputs = [output0]\n",
        "    self.block_hash = -1\n",
        "\n",
        "    self.outputs[0].to.balance += self.outputs[0].amount  # Actualizamos el balance de la wallet\n",
        "    self.outputs[0].to.open_tx.append(self.id)     # Actualizamos la lista de transacciones abiertas relacionadas a la wallet\n",
        "    self.outputs[0].id_tx = self.id     # Actualizamos el output para relacionarlo a esta transaccion\n",
        "\n",
        "  # Funcion utilizada para imprimir en consola las caracteristicas de la transaccion\n",
        "  def describe(self):\n",
        "    \"\"\"\n",
        "    Function that prints the state of the transaction\n",
        "    \"\"\"\n",
        "    print(\"id: \", self.id,\"\\n\",\n",
        "          \"block hash: \", self.block_hash,\"\\n\",\n",
        "          \"inputs:\")\n",
        "    for ins in self.inputs:\n",
        "      try:\n",
        "        ins.describe()\n",
        "      except:\n",
        "        print(\"\\tInput not found\")\n",
        "    print(\"outputs:\")\n",
        "    for out in self.outputs:\n",
        "      out.describe()\n",
        "\n",
        "  # Funcion utilizada para obtener un string inmutable posteriormente utilizado en la generacion del hash del bloque cuando es añadido a la cadena\n",
        "  # (el 'block_hash' se almacena una vez el bloque es añadido a la cadena, por lo que no se tienen en cuenta)\n",
        "  def toString(self):\n",
        "    \"\"\"\n",
        "    Function that return a string used for the creation of the block hash, must be consistent after its been added to the chain\n",
        "    \"\"\"\n",
        "    aux1 = \"\"\n",
        "    for ins in self.inputs:\n",
        "      try:\n",
        "        aux1  = aux1 + (ins.toString())\n",
        "      except(AttributeError):\n",
        "        aux1 = aux1 + str(ins)\n",
        "    aux2 = \"\"\n",
        "    for out in self.outputs:\n",
        "      aux2 = aux2 + (out.toString())\n",
        "    return str(self.id) + aux1 + aux2"
      ],
      "metadata": {
        "id": "q9Krwlml_QvU"
      },
      "execution_count": 5,
      "outputs": []
    },
    {
      "cell_type": "code",
      "source": [
        "# Clase Bloque: Representa un bloque por añadir o añadido a la cadena, donde se almacenan las transacciones, el merkle root,\n",
        "# el hash del bloque previo y el nounce del bloque\n",
        "class Block:\n",
        "  \"\"\"\n",
        "  A class that represents a block from bitcoin\n",
        "  \"\"\"\n",
        "\n",
        "  # Constructor del bloque, requiere la lista de objetos 'Transation' a almacenar y el hash del bloque previo\n",
        "  def __init__(self, transactions, prev_hash):\n",
        "    \"\"\"\n",
        "    Class initializer that needs a list of 'Transaction' and the previous block hash, as the Merkle root is automatically generated\n",
        "    and starts with a random nounce with 'top' 10^10\n",
        "    \"\"\"\n",
        "\n",
        "    # Verificaciones sobre los parametros de entrada\n",
        "    assert all((type(tx) == Transaction) for tx in transactions), \"List of transactions should only contain 'Trasaction' objects\"\n",
        "\n",
        "\n",
        "    # Obtenemos los strings inmutables de las transacciones para generar posteriormente generar el merkle root\n",
        "    str_transactions = []\n",
        "    for tx in transactions:\n",
        "      str_transactions.append(tx.toString())\n",
        "\n",
        "    self.transactions = transactions\n",
        "    self.merkle_root = getRoot(str_transactions)\n",
        "    self.prev_hash = prev_hash\n",
        "    self.nounce = genNounce(10**10)\n",
        "\n",
        "\n",
        "  # Funcion para generar el hash del bloque\n",
        "  def genHash(self):\n",
        "    \"\"\"\n",
        "    Function that returns the hash of the block\n",
        "    \"\"\"\n",
        "    str_self = str(self.merkle_root) + str(self.prev_hash) + str(self.nounce)\n",
        "    return hash(str_self)\n",
        "\n",
        "  # Funcion utilizada para validar la totalidad de las transacciones realizadas en el bloque\n",
        "  # (opcional : debido a que se hace la verificacion individual cuando se crean las transacciones)\n",
        "  def Validate(self):\n",
        "    for tx in self.transactions:\n",
        "      aux = []\n",
        "      aux2 = []\n",
        "      for out in tx.outputs[1:]:\n",
        "        aux.append(out.amount)    # Suma todos los valores de outputs excepto el CoinBase\n",
        "      for ins in tx.inputs[1:]:\n",
        "        aux2.append(ins.amount)   # Suma todos los valores de inputs excepto el CoinBase\n",
        "      out_total_amount = sum(aux)\n",
        "      in_total_amount = sum(aux2)\n",
        "      return in_total_amount <= out_total_amount\n",
        "\n",
        "\n",
        "  # Funcion utilizada para imprimir en consola las caracteristicas del bloque\n",
        "  def describe(self):\n",
        "    \"\"\"\n",
        "    Function that prints the state of the block\n",
        "    \"\"\"\n",
        "    print(\"Header: \\n\",\n",
        "          \" prev_hash: \", self.prev_hash,\"\\n\",\n",
        "          \" merkle_root: \", self.merkle_root,\"\\n\",\n",
        "          \" nounce: \", self.nounce,\"\\n\",\n",
        "          \"\\nBody: \\n\",\n",
        "          \"Transactions: \")\n",
        "    for tx in self.transactions:\n",
        "      print(\"\\t\")\n",
        "      tx.describe()"
      ],
      "metadata": {
        "id": "cktKZVao_QFr"
      },
      "execution_count": 6,
      "outputs": []
    },
    {
      "cell_type": "code",
      "execution_count": 7,
      "metadata": {
        "id": "AiO1MSfR-kVv"
      },
      "outputs": [],
      "source": [
        "# Clase Cadena: Representa una cadena de bloques, inicialmente con una lista vacia\n",
        "class Chain:\n",
        "  \"\"\"\n",
        "  A class that represents a chain of 'Block's\n",
        "  \"\"\"\n",
        "\n",
        "  # Constructor de la cadena\n",
        "  def __init__(self):\n",
        "    \"\"\"\n",
        "    Class initializer, creates an atribute with an empty list of blocks\n",
        "    \"\"\"\n",
        "    self.chain = []\n",
        "\n",
        "  # Funcion para añadir un bloque a la cadena, donde se realiza la prueba de trabajo y se actualizan las transacciones con el hash final del bloque\n",
        "  def addBlock(self, block, difficulty_level):\n",
        "    \"\"\"\n",
        "    Function used to add a block to the chain, where the \"proof of work\" is done and the transactions state is updated\n",
        "    \"\"\"\n",
        "\n",
        "    # Verificaciones sobre los parametros de entrada\n",
        "    assert type(difficulty_level) == int, \"Wrong type, 'difficulty_level' should be a integer\"\n",
        "    assert difficulty_level >= 0, \"'difficulty_level' should not be negative\"\n",
        "    assert type(block) == Block, \"Wrong type, 'block' should be a Block\"\n",
        "\n",
        "\n",
        "    # Validacion sobre la totalidad del bloque (opcional)\n",
        "    assert block.Validate() == True, \"Invalid block, sum of transaction operations doesnt match\"\n",
        "\n",
        "    # Proof of work\n",
        "    goal = str(\"0\"*difficulty_level)\n",
        "    hashed_nounce = hash(str(block.nounce))\n",
        "    while(not(hashed_nounce.startswith(goal))):\n",
        "      block.nounce = genNounce(10**10)\n",
        "      hashed_nounce = hash(str(block.nounce))\n",
        "\n",
        "    print(goal,\"? -->\", hashed_nounce, \"with\", block.nounce)\n",
        "    self.chain.append(block)      # Agregamos el bloque en la cadena\n",
        "    print(\"Block added\")\n",
        "\n",
        "    # Actualizamos las transacciones con el hash del bloque en el que quedaron\n",
        "    for tx in block.transactions:\n",
        "      tx.block_hash = block.genHash()\n"
      ]
    },
    {
      "cell_type": "markdown",
      "source": [
        "## Demostración de la blockchain\n",
        "\n",
        "En caso de modificar las funciones y clases en la parte superior volver a iniciar desde este punto para evitar error inesperados."
      ],
      "metadata": {
        "id": "ebq4yKIP_ct7"
      }
    },
    {
      "cell_type": "markdown",
      "source": [
        "Creación de Wallets vacias"
      ],
      "metadata": {
        "id": "Nv_B1Q-OnkNc"
      }
    },
    {
      "cell_type": "code",
      "source": [
        "Wallet1 = Wallet(\"Pepito123456\")\n",
        "Wallet2 = Wallet(\"Edison147852\")\n",
        "Wallet3 = Wallet(\"Fernando987\")\n",
        "Wallet4 = Wallet(\"Ricardo456456\")\n",
        "\n",
        "Wallet1.describe()\n",
        "Wallet2.describe()\n",
        "Wallet3.describe()\n",
        "Wallet4.describe()"
      ],
      "metadata": {
        "colab": {
          "base_uri": "https://localhost:8080/"
        },
        "id": "gDEGus4AUX4Y",
        "outputId": "e1005c39-dd07-46bf-965a-bfece3f42903"
      },
      "execution_count": 8,
      "outputs": [
        {
          "output_type": "stream",
          "name": "stdout",
          "text": [
            "\t   public:  1217d76e89796d523a61815fb7d198db01d6c79386ee0bb6420c3f87fef5e063 \n",
            " \t   available transactions:  [] \n",
            " \t   balance:  0 \n",
            "\n",
            "\t   public:  16831949036b6da4f8d8688af827e64ac3d1e24a218905f81a9d43d6b12cc001 \n",
            " \t   available transactions:  [] \n",
            " \t   balance:  0 \n",
            "\n",
            "\t   public:  de9a6e7558175562e25dba71834875f0f89a5e959dd94f13a1c2f0d91ba6f010 \n",
            " \t   available transactions:  [] \n",
            " \t   balance:  0 \n",
            "\n",
            "\t   public:  5bf8162f54797354bba873f473f0065ce5108e21cee3870d069aba4ad37eaa21 \n",
            " \t   available transactions:  [] \n",
            " \t   balance:  0 \n",
            "\n"
          ]
        }
      ]
    },
    {
      "cell_type": "markdown",
      "source": [
        "Creación de un conjunto de transacciones"
      ],
      "metadata": {
        "id": "1j-JAPappYeq"
      }
    },
    {
      "cell_type": "code",
      "source": [
        "ttx0 = Transaction(Wallet1)\n",
        "ttx0.describe()"
      ],
      "metadata": {
        "id": "ME9Zli-Tpcm2",
        "colab": {
          "base_uri": "https://localhost:8080/"
        },
        "collapsed": true,
        "outputId": "8b91ae7d-712f-40fa-b471-ca261360ad2b"
      },
      "execution_count": 9,
      "outputs": [
        {
          "output_type": "stream",
          "name": "stdout",
          "text": [
            "id:  1 \n",
            " block hash:  -1 \n",
            " inputs:\n",
            "\tInput not found\n",
            "outputs:\n",
            "\tamount:  50 \n",
            " \tid_tx:  1 \n",
            " \tspent:  False \n",
            "\n",
            "\twallet: \n",
            "\t   public:  1217d76e89796d523a61815fb7d198db01d6c79386ee0bb6420c3f87fef5e063 \n",
            " \t   available transactions:  [1] \n",
            " \t   balance:  50 \n",
            "\n",
            "\n",
            "\n"
          ]
        }
      ]
    },
    {
      "cell_type": "code",
      "source": [
        "# Observamos como se ve reflejada la transaccion anterior en la wallet 1\n",
        "Wallet1.describe()"
      ],
      "metadata": {
        "colab": {
          "base_uri": "https://localhost:8080/"
        },
        "id": "dKjcwpTeCOZD",
        "outputId": "d1662764-4fba-4018-b699-88bdcb1b8bdd"
      },
      "execution_count": 10,
      "outputs": [
        {
          "output_type": "stream",
          "name": "stdout",
          "text": [
            "\t   public:  1217d76e89796d523a61815fb7d198db01d6c79386ee0bb6420c3f87fef5e063 \n",
            " \t   available transactions:  [1] \n",
            " \t   balance:  50 \n",
            "\n"
          ]
        }
      ]
    },
    {
      "cell_type": "code",
      "source": [
        "# Si se intenta realizar una transaccion invalida, se genera un error y no se aplica la transaccion\n",
        "# Input = 50, Output = 20,40 = 60 ; 50 < 60 --> La wallet 1 no tiene suficientes bitcoin\n",
        "\n",
        "ttx1 = Transaction(inputs=[ttx0.outputs[0]],outputs=[Output(20,Wallet2), Output(40,Wallet1)])\n",
        "ttx1.describe()"
      ],
      "metadata": {
        "colab": {
          "base_uri": "https://localhost:8080/",
          "height": 408
        },
        "id": "ItpNfDEMuO6l",
        "outputId": "8461b50f-5576-4420-fd58-781d0ef2b1bc"
      },
      "execution_count": 11,
      "outputs": [
        {
          "output_type": "error",
          "ename": "ArithmeticError",
          "evalue": "Sum of operations is invalid",
          "traceback": [
            "\u001b[0;31m---------------------------------------------------------------------------\u001b[0m",
            "\u001b[0;31mArithmeticError\u001b[0m                           Traceback (most recent call last)",
            "\u001b[0;32m<ipython-input-5-383d6b9f9cd4>\u001b[0m in \u001b[0;36m__init__\u001b[0;34m(self, inputs, outputs)\u001b[0m\n\u001b[1;32m     36\u001b[0m       \u001b[0;32mif\u001b[0m\u001b[0;34m(\u001b[0m\u001b[0mcheck\u001b[0m \u001b[0;34m>\u001b[0m \u001b[0mcheck2\u001b[0m\u001b[0;34m)\u001b[0m\u001b[0;34m:\u001b[0m\u001b[0;34m\u001b[0m\u001b[0;34m\u001b[0m\u001b[0m\n\u001b[0;32m---> 37\u001b[0;31m         \u001b[0;32mraise\u001b[0m \u001b[0mArithmeticError\u001b[0m\u001b[0;34m(\u001b[0m\u001b[0;34m\"Amount to output is higher than input amount\"\u001b[0m\u001b[0;34m)\u001b[0m\u001b[0;34m\u001b[0m\u001b[0;34m\u001b[0m\u001b[0m\n\u001b[0m\u001b[1;32m     38\u001b[0m     \u001b[0;32mexcept\u001b[0m\u001b[0;34m:\u001b[0m\u001b[0;34m\u001b[0m\u001b[0;34m\u001b[0m\u001b[0m\n",
            "\u001b[0;31mArithmeticError\u001b[0m: Amount to output is higher than input amount",
            "\nDuring handling of the above exception, another exception occurred:\n",
            "\u001b[0;31mArithmeticError\u001b[0m                           Traceback (most recent call last)",
            "\u001b[0;32m<ipython-input-11-cb9e7d85da73>\u001b[0m in \u001b[0;36m<cell line: 4>\u001b[0;34m()\u001b[0m\n\u001b[1;32m      2\u001b[0m \u001b[0;31m# Input = 50, Output = 20,40 = 60 ; 50 < 60 --> La wallet 1 no tiene suficientes bitcoin\u001b[0m\u001b[0;34m\u001b[0m\u001b[0;34m\u001b[0m\u001b[0m\n\u001b[1;32m      3\u001b[0m \u001b[0;34m\u001b[0m\u001b[0m\n\u001b[0;32m----> 4\u001b[0;31m \u001b[0mttx1\u001b[0m \u001b[0;34m=\u001b[0m \u001b[0mTransaction\u001b[0m\u001b[0;34m(\u001b[0m\u001b[0minputs\u001b[0m\u001b[0;34m=\u001b[0m\u001b[0;34m[\u001b[0m\u001b[0mttx0\u001b[0m\u001b[0;34m.\u001b[0m\u001b[0moutputs\u001b[0m\u001b[0;34m[\u001b[0m\u001b[0;36m0\u001b[0m\u001b[0;34m]\u001b[0m\u001b[0;34m]\u001b[0m\u001b[0;34m,\u001b[0m\u001b[0moutputs\u001b[0m\u001b[0;34m=\u001b[0m\u001b[0;34m[\u001b[0m\u001b[0mOutput\u001b[0m\u001b[0;34m(\u001b[0m\u001b[0;36m20\u001b[0m\u001b[0;34m,\u001b[0m\u001b[0mWallet2\u001b[0m\u001b[0;34m)\u001b[0m\u001b[0;34m,\u001b[0m \u001b[0mOutput\u001b[0m\u001b[0;34m(\u001b[0m\u001b[0;36m40\u001b[0m\u001b[0;34m,\u001b[0m\u001b[0mWallet1\u001b[0m\u001b[0;34m)\u001b[0m\u001b[0;34m]\u001b[0m\u001b[0;34m)\u001b[0m\u001b[0;34m\u001b[0m\u001b[0;34m\u001b[0m\u001b[0m\n\u001b[0m\u001b[1;32m      5\u001b[0m \u001b[0mttx1\u001b[0m\u001b[0;34m.\u001b[0m\u001b[0mdescribe\u001b[0m\u001b[0;34m(\u001b[0m\u001b[0;34m)\u001b[0m\u001b[0;34m\u001b[0m\u001b[0;34m\u001b[0m\u001b[0m\n",
            "\u001b[0;32m/usr/local/lib/python3.10/dist-packages/multipledispatch/dispatcher.py\u001b[0m in \u001b[0;36m__call__\u001b[0;34m(self, *args, **kwargs)\u001b[0m\n\u001b[1;32m    437\u001b[0m                 \u001b[0;34m%\u001b[0m \u001b[0;34m(\u001b[0m\u001b[0mself\u001b[0m\u001b[0;34m.\u001b[0m\u001b[0mname\u001b[0m\u001b[0;34m,\u001b[0m \u001b[0mstr_signature\u001b[0m\u001b[0;34m(\u001b[0m\u001b[0mtypes\u001b[0m\u001b[0;34m)\u001b[0m\u001b[0;34m)\u001b[0m\u001b[0;34m\u001b[0m\u001b[0;34m\u001b[0m\u001b[0m\n\u001b[1;32m    438\u001b[0m             )\n\u001b[0;32m--> 439\u001b[0;31m         \u001b[0;32mreturn\u001b[0m \u001b[0mfunc\u001b[0m\u001b[0;34m(\u001b[0m\u001b[0mself\u001b[0m\u001b[0;34m.\u001b[0m\u001b[0mobj\u001b[0m\u001b[0;34m,\u001b[0m \u001b[0;34m*\u001b[0m\u001b[0margs\u001b[0m\u001b[0;34m,\u001b[0m \u001b[0;34m**\u001b[0m\u001b[0mkwargs\u001b[0m\u001b[0;34m)\u001b[0m\u001b[0;34m\u001b[0m\u001b[0;34m\u001b[0m\u001b[0m\n\u001b[0m\u001b[1;32m    440\u001b[0m \u001b[0;34m\u001b[0m\u001b[0m\n\u001b[1;32m    441\u001b[0m \u001b[0;34m\u001b[0m\u001b[0m\n",
            "\u001b[0;32m<ipython-input-5-383d6b9f9cd4>\u001b[0m in \u001b[0;36m__init__\u001b[0;34m(self, inputs, outputs)\u001b[0m\n\u001b[1;32m     37\u001b[0m         \u001b[0;32mraise\u001b[0m \u001b[0mArithmeticError\u001b[0m\u001b[0;34m(\u001b[0m\u001b[0;34m\"Amount to output is higher than input amount\"\u001b[0m\u001b[0;34m)\u001b[0m\u001b[0;34m\u001b[0m\u001b[0;34m\u001b[0m\u001b[0m\n\u001b[1;32m     38\u001b[0m     \u001b[0;32mexcept\u001b[0m\u001b[0;34m:\u001b[0m\u001b[0;34m\u001b[0m\u001b[0;34m\u001b[0m\u001b[0m\n\u001b[0;32m---> 39\u001b[0;31m       \u001b[0;32mraise\u001b[0m \u001b[0mArithmeticError\u001b[0m\u001b[0;34m(\u001b[0m\u001b[0;34m\"Sum of operations is invalid\"\u001b[0m\u001b[0;34m)\u001b[0m\u001b[0;34m\u001b[0m\u001b[0;34m\u001b[0m\u001b[0m\n\u001b[0m\u001b[1;32m     40\u001b[0m \u001b[0;34m\u001b[0m\u001b[0m\n\u001b[1;32m     41\u001b[0m     \u001b[0;31m# Si la transaccion es valida, procedemos a realizar la transaccion\u001b[0m\u001b[0;34m\u001b[0m\u001b[0;34m\u001b[0m\u001b[0m\n",
            "\u001b[0;31mArithmeticError\u001b[0m: Sum of operations is invalid"
          ]
        }
      ]
    },
    {
      "cell_type": "code",
      "source": [
        "# Podemos observar que no se modificó la información de la\n",
        "Wallet1.describe()\n",
        "Wallet2.describe()"
      ],
      "metadata": {
        "colab": {
          "base_uri": "https://localhost:8080/"
        },
        "id": "yd-xkrij9axd",
        "outputId": "4b439e32-31a5-46b8-cb6b-1ce8350732e3"
      },
      "execution_count": 12,
      "outputs": [
        {
          "output_type": "stream",
          "name": "stdout",
          "text": [
            "\t   public:  1217d76e89796d523a61815fb7d198db01d6c79386ee0bb6420c3f87fef5e063 \n",
            " \t   available transactions:  [1] \n",
            " \t   balance:  50 \n",
            "\n",
            "\t   public:  16831949036b6da4f8d8688af827e64ac3d1e24a218905f81a9d43d6b12cc001 \n",
            " \t   available transactions:  [] \n",
            " \t   balance:  0 \n",
            "\n"
          ]
        }
      ]
    },
    {
      "cell_type": "code",
      "source": [
        "# Si intento realizar una transaccion valida, se aplican los cambios necesarios\n",
        "ttx1 = Transaction(inputs=[ttx0.outputs[0]],outputs=[Output(20,Wallet2), Output(30,Wallet1)])\n",
        "ttx1.describe()"
      ],
      "metadata": {
        "colab": {
          "base_uri": "https://localhost:8080/"
        },
        "id": "0bJnJ_ZBBTMx",
        "outputId": "9df0b160-ca18-4800-efda-9b1bc30fb331"
      },
      "execution_count": 13,
      "outputs": [
        {
          "output_type": "stream",
          "name": "stdout",
          "text": [
            "id:  3 \n",
            " block hash:  -1 \n",
            " inputs:\n",
            "\tamount:  50 \n",
            " \tid_tx:  1 \n",
            " \tspent:  True \n",
            "\n",
            "\twallet: \n",
            "\t   public:  1217d76e89796d523a61815fb7d198db01d6c79386ee0bb6420c3f87fef5e063 \n",
            " \t   available transactions:  [3] \n",
            " \t   balance:  30 \n",
            "\n",
            "\n",
            "\n",
            "outputs:\n",
            "\tamount:  20 \n",
            " \tid_tx:  3 \n",
            " \tspent:  False \n",
            "\n",
            "\twallet: \n",
            "\t   public:  16831949036b6da4f8d8688af827e64ac3d1e24a218905f81a9d43d6b12cc001 \n",
            " \t   available transactions:  [3] \n",
            " \t   balance:  20 \n",
            "\n",
            "\n",
            "\n",
            "\tamount:  30 \n",
            " \tid_tx:  3 \n",
            " \tspent:  False \n",
            "\n",
            "\twallet: \n",
            "\t   public:  1217d76e89796d523a61815fb7d198db01d6c79386ee0bb6420c3f87fef5e063 \n",
            " \t   available transactions:  [3] \n",
            " \t   balance:  30 \n",
            "\n",
            "\n",
            "\n"
          ]
        }
      ]
    },
    {
      "cell_type": "code",
      "source": [
        "# Vemos como se actualizan las wallets involucradas\n",
        "Wallet1.describe()\n",
        "Wallet2.describe()"
      ],
      "metadata": {
        "colab": {
          "base_uri": "https://localhost:8080/"
        },
        "id": "Q2cyrghmBTBa",
        "outputId": "66635cd3-a10c-4434-9ec4-ae98a4be17e7"
      },
      "execution_count": 14,
      "outputs": [
        {
          "output_type": "stream",
          "name": "stdout",
          "text": [
            "\t   public:  1217d76e89796d523a61815fb7d198db01d6c79386ee0bb6420c3f87fef5e063 \n",
            " \t   available transactions:  [3] \n",
            " \t   balance:  30 \n",
            "\n",
            "\t   public:  16831949036b6da4f8d8688af827e64ac3d1e24a218905f81a9d43d6b12cc001 \n",
            " \t   available transactions:  [3] \n",
            " \t   balance:  20 \n",
            "\n"
          ]
        }
      ]
    },
    {
      "cell_type": "code",
      "source": [
        "# Y que la transaccion utilizada como input fue actualizada para reflejar que ya fue gastada ('spent')\n",
        "ttx0.describe()"
      ],
      "metadata": {
        "colab": {
          "base_uri": "https://localhost:8080/"
        },
        "id": "j0tvJM5aEf7p",
        "outputId": "50791b5e-905e-45a6-a418-8395b8dfa2d7"
      },
      "execution_count": 15,
      "outputs": [
        {
          "output_type": "stream",
          "name": "stdout",
          "text": [
            "id:  1 \n",
            " block hash:  -1 \n",
            " inputs:\n",
            "\tInput not found\n",
            "outputs:\n",
            "\tamount:  50 \n",
            " \tid_tx:  1 \n",
            " \tspent:  True \n",
            "\n",
            "\twallet: \n",
            "\t   public:  1217d76e89796d523a61815fb7d198db01d6c79386ee0bb6420c3f87fef5e063 \n",
            " \t   available transactions:  [3] \n",
            " \t   balance:  30 \n",
            "\n",
            "\n",
            "\n"
          ]
        }
      ]
    },
    {
      "cell_type": "markdown",
      "source": [
        "Creación de un bloque 'inicial'"
      ],
      "metadata": {
        "id": "nVy-0FrZpSv0"
      }
    },
    {
      "cell_type": "code",
      "source": [
        "Block0 = Block([ttx0, ttx1], hash(str(\"prev_hash\")))\n",
        "Block0.describe()"
      ],
      "metadata": {
        "id": "5wR_yLWnpTA_",
        "colab": {
          "base_uri": "https://localhost:8080/"
        },
        "outputId": "6a961824-3304-475e-80c7-0c6be2f766c1"
      },
      "execution_count": 16,
      "outputs": [
        {
          "output_type": "stream",
          "name": "stdout",
          "text": [
            "Header: \n",
            "  prev_hash:  009166c917b09f86aba0d1f2dc1c6c6b874453b0224a7d505a16069bc6593181 \n",
            "  merkle_root:  f5cc8ec3628c0e550e54119f8bb804d5575e6e4812b61bd10e6c97879b8476cf \n",
            "  nounce:  1910723005 \n",
            " \n",
            "Body: \n",
            " Transactions: \n",
            "\t\n",
            "id:  1 \n",
            " block hash:  -1 \n",
            " inputs:\n",
            "\tInput not found\n",
            "outputs:\n",
            "\tamount:  50 \n",
            " \tid_tx:  1 \n",
            " \tspent:  True \n",
            "\n",
            "\twallet: \n",
            "\t   public:  1217d76e89796d523a61815fb7d198db01d6c79386ee0bb6420c3f87fef5e063 \n",
            " \t   available transactions:  [3] \n",
            " \t   balance:  30 \n",
            "\n",
            "\n",
            "\n",
            "\t\n",
            "id:  3 \n",
            " block hash:  -1 \n",
            " inputs:\n",
            "\tamount:  50 \n",
            " \tid_tx:  1 \n",
            " \tspent:  True \n",
            "\n",
            "\twallet: \n",
            "\t   public:  1217d76e89796d523a61815fb7d198db01d6c79386ee0bb6420c3f87fef5e063 \n",
            " \t   available transactions:  [3] \n",
            " \t   balance:  30 \n",
            "\n",
            "\n",
            "\n",
            "outputs:\n",
            "\tamount:  20 \n",
            " \tid_tx:  3 \n",
            " \tspent:  False \n",
            "\n",
            "\twallet: \n",
            "\t   public:  16831949036b6da4f8d8688af827e64ac3d1e24a218905f81a9d43d6b12cc001 \n",
            " \t   available transactions:  [3] \n",
            " \t   balance:  20 \n",
            "\n",
            "\n",
            "\n",
            "\tamount:  30 \n",
            " \tid_tx:  3 \n",
            " \tspent:  False \n",
            "\n",
            "\twallet: \n",
            "\t   public:  1217d76e89796d523a61815fb7d198db01d6c79386ee0bb6420c3f87fef5e063 \n",
            " \t   available transactions:  [3] \n",
            " \t   balance:  30 \n",
            "\n",
            "\n",
            "\n"
          ]
        }
      ]
    },
    {
      "cell_type": "code",
      "source": [
        "# Validación sobre todas las transacciones ocurridas en el bloque, debe retornar True si el bloque es válido\n",
        "Block0.Validate()"
      ],
      "metadata": {
        "colab": {
          "base_uri": "https://localhost:8080/"
        },
        "id": "wRRp6YhNTKHs",
        "outputId": "a01ba12e-3eca-4204-d41e-ef19f04cc17b"
      },
      "execution_count": 17,
      "outputs": [
        {
          "output_type": "execute_result",
          "data": {
            "text/plain": [
              "True"
            ]
          },
          "metadata": {},
          "execution_count": 17
        }
      ]
    },
    {
      "cell_type": "markdown",
      "source": [
        "Cración de una cadena vacía"
      ],
      "metadata": {
        "id": "zoYIAhfXpsny"
      }
    },
    {
      "cell_type": "code",
      "source": [
        "long_chain = Chain()\n",
        "long_chain.chain"
      ],
      "metadata": {
        "colab": {
          "base_uri": "https://localhost:8080/"
        },
        "id": "emt1Sp5Jpr7v",
        "outputId": "f5f8de0e-6b15-4f3c-a7ef-0173990c7a53"
      },
      "execution_count": 18,
      "outputs": [
        {
          "output_type": "execute_result",
          "data": {
            "text/plain": [
              "[]"
            ]
          },
          "metadata": {},
          "execution_count": 18
        }
      ]
    },
    {
      "cell_type": "markdown",
      "source": [
        "Añadimos el bloque a la cadena creada"
      ],
      "metadata": {
        "id": "Fu7938Uzpenf"
      }
    },
    {
      "cell_type": "code",
      "source": [
        "# Block, difficulty\n",
        "long_chain.addBlock(Block0, 5)"
      ],
      "metadata": {
        "id": "MFVmBufapeEb",
        "colab": {
          "base_uri": "https://localhost:8080/"
        },
        "outputId": "13346982-b1cd-4cc9-8e9b-0b815d72fb1f"
      },
      "execution_count": 19,
      "outputs": [
        {
          "output_type": "stream",
          "name": "stdout",
          "text": [
            "00000 ? --> 000003ab00e8fd908a4febe6043adb221e73b6bbcb05d3a893cd43e1c70701ca with 478253051\n",
            "Block added\n"
          ]
        }
      ]
    },
    {
      "cell_type": "code",
      "source": [
        "long_chain.chain[0].describe()"
      ],
      "metadata": {
        "colab": {
          "base_uri": "https://localhost:8080/"
        },
        "id": "T48_bC6gUb_s",
        "outputId": "f4452c7a-e52a-42c1-c253-1f384f6a8ed5"
      },
      "execution_count": 20,
      "outputs": [
        {
          "output_type": "stream",
          "name": "stdout",
          "text": [
            "Header: \n",
            "  prev_hash:  009166c917b09f86aba0d1f2dc1c6c6b874453b0224a7d505a16069bc6593181 \n",
            "  merkle_root:  f5cc8ec3628c0e550e54119f8bb804d5575e6e4812b61bd10e6c97879b8476cf \n",
            "  nounce:  478253051 \n",
            " \n",
            "Body: \n",
            " Transactions: \n",
            "\t\n",
            "id:  1 \n",
            " block hash:  aaf0cac0f79346f79aa9b4b8126c254cee80871b812cdc10c9622098aa60b725 \n",
            " inputs:\n",
            "\tInput not found\n",
            "outputs:\n",
            "\tamount:  50 \n",
            " \tid_tx:  1 \n",
            " \tspent:  True \n",
            "\n",
            "\twallet: \n",
            "\t   public:  1217d76e89796d523a61815fb7d198db01d6c79386ee0bb6420c3f87fef5e063 \n",
            " \t   available transactions:  [3] \n",
            " \t   balance:  30 \n",
            "\n",
            "\n",
            "\n",
            "\t\n",
            "id:  3 \n",
            " block hash:  aaf0cac0f79346f79aa9b4b8126c254cee80871b812cdc10c9622098aa60b725 \n",
            " inputs:\n",
            "\tamount:  50 \n",
            " \tid_tx:  1 \n",
            " \tspent:  True \n",
            "\n",
            "\twallet: \n",
            "\t   public:  1217d76e89796d523a61815fb7d198db01d6c79386ee0bb6420c3f87fef5e063 \n",
            " \t   available transactions:  [3] \n",
            " \t   balance:  30 \n",
            "\n",
            "\n",
            "\n",
            "outputs:\n",
            "\tamount:  20 \n",
            " \tid_tx:  3 \n",
            " \tspent:  False \n",
            "\n",
            "\twallet: \n",
            "\t   public:  16831949036b6da4f8d8688af827e64ac3d1e24a218905f81a9d43d6b12cc001 \n",
            " \t   available transactions:  [3] \n",
            " \t   balance:  20 \n",
            "\n",
            "\n",
            "\n",
            "\tamount:  30 \n",
            " \tid_tx:  3 \n",
            " \tspent:  False \n",
            "\n",
            "\twallet: \n",
            "\t   public:  1217d76e89796d523a61815fb7d198db01d6c79386ee0bb6420c3f87fef5e063 \n",
            " \t   available transactions:  [3] \n",
            " \t   balance:  30 \n",
            "\n",
            "\n",
            "\n"
          ]
        }
      ]
    },
    {
      "cell_type": "markdown",
      "source": [
        "## Más interacción en la blockchain"
      ],
      "metadata": {
        "id": "WVc-S3Nf_hBC"
      }
    },
    {
      "cell_type": "code",
      "source": [
        "ttx2 = Transaction(Wallet3)\n",
        "ttx2.describe()"
      ],
      "metadata": {
        "id": "8a8Q54Af_mpL",
        "colab": {
          "base_uri": "https://localhost:8080/"
        },
        "outputId": "92d230f8-b8eb-4e30-9568-57c8ca1c5fd6"
      },
      "execution_count": 21,
      "outputs": [
        {
          "output_type": "stream",
          "name": "stdout",
          "text": [
            "id:  4 \n",
            " block hash:  -1 \n",
            " inputs:\n",
            "\tInput not found\n",
            "outputs:\n",
            "\tamount:  50 \n",
            " \tid_tx:  4 \n",
            " \tspent:  False \n",
            "\n",
            "\twallet: \n",
            "\t   public:  de9a6e7558175562e25dba71834875f0f89a5e959dd94f13a1c2f0d91ba6f010 \n",
            " \t   available transactions:  [4] \n",
            " \t   balance:  50 \n",
            "\n",
            "\n",
            "\n"
          ]
        }
      ]
    },
    {
      "cell_type": "code",
      "source": [
        "ttx3 = Transaction(inputs=[ttx2.outputs[0]],outputs=[Output(20,Wallet2), Output(30,Wallet1)])\n",
        "ttx3.describe()"
      ],
      "metadata": {
        "colab": {
          "base_uri": "https://localhost:8080/"
        },
        "id": "qFvJLyruU9VI",
        "outputId": "8cbc578e-1167-4016-f9e7-2bbd84e7b9ac"
      },
      "execution_count": 22,
      "outputs": [
        {
          "output_type": "stream",
          "name": "stdout",
          "text": [
            "id:  5 \n",
            " block hash:  -1 \n",
            " inputs:\n",
            "\tamount:  50 \n",
            " \tid_tx:  4 \n",
            " \tspent:  True \n",
            "\n",
            "\twallet: \n",
            "\t   public:  de9a6e7558175562e25dba71834875f0f89a5e959dd94f13a1c2f0d91ba6f010 \n",
            " \t   available transactions:  [] \n",
            " \t   balance:  0 \n",
            "\n",
            "\n",
            "\n",
            "outputs:\n",
            "\tamount:  20 \n",
            " \tid_tx:  5 \n",
            " \tspent:  False \n",
            "\n",
            "\twallet: \n",
            "\t   public:  16831949036b6da4f8d8688af827e64ac3d1e24a218905f81a9d43d6b12cc001 \n",
            " \t   available transactions:  [3, 5] \n",
            " \t   balance:  40 \n",
            "\n",
            "\n",
            "\n",
            "\tamount:  30 \n",
            " \tid_tx:  5 \n",
            " \tspent:  False \n",
            "\n",
            "\twallet: \n",
            "\t   public:  1217d76e89796d523a61815fb7d198db01d6c79386ee0bb6420c3f87fef5e063 \n",
            " \t   available transactions:  [3, 5] \n",
            " \t   balance:  60 \n",
            "\n",
            "\n",
            "\n"
          ]
        }
      ]
    },
    {
      "cell_type": "code",
      "source": [
        "Wallet2.describe()"
      ],
      "metadata": {
        "colab": {
          "base_uri": "https://localhost:8080/"
        },
        "id": "bzBbdbvaVWHp",
        "outputId": "dc4f88cd-db7b-40b9-9e46-6bded40c5daa"
      },
      "execution_count": 23,
      "outputs": [
        {
          "output_type": "stream",
          "name": "stdout",
          "text": [
            "\t   public:  16831949036b6da4f8d8688af827e64ac3d1e24a218905f81a9d43d6b12cc001 \n",
            " \t   available transactions:  [3, 5] \n",
            " \t   balance:  40 \n",
            "\n"
          ]
        }
      ]
    },
    {
      "cell_type": "code",
      "source": [
        "ttx4 = Transaction(inputs=[ttx1.outputs[0], ttx3.outputs[0]],outputs=[Output(20,Wallet4), Output(20,Wallet1)])"
      ],
      "metadata": {
        "id": "HCM_yLoBVCfz"
      },
      "execution_count": 24,
      "outputs": []
    },
    {
      "cell_type": "code",
      "source": [
        "ttx4.describe()"
      ],
      "metadata": {
        "colab": {
          "base_uri": "https://localhost:8080/"
        },
        "id": "px2wNIvgWLSc",
        "outputId": "78e6b479-5f25-44f1-f31f-1fbe57f6a283"
      },
      "execution_count": 25,
      "outputs": [
        {
          "output_type": "stream",
          "name": "stdout",
          "text": [
            "id:  6 \n",
            " block hash:  -1 \n",
            " inputs:\n",
            "\tamount:  20 \n",
            " \tid_tx:  3 \n",
            " \tspent:  True \n",
            "\n",
            "\twallet: \n",
            "\t   public:  16831949036b6da4f8d8688af827e64ac3d1e24a218905f81a9d43d6b12cc001 \n",
            " \t   available transactions:  [] \n",
            " \t   balance:  0 \n",
            "\n",
            "\n",
            "\n",
            "\tamount:  20 \n",
            " \tid_tx:  5 \n",
            " \tspent:  True \n",
            "\n",
            "\twallet: \n",
            "\t   public:  16831949036b6da4f8d8688af827e64ac3d1e24a218905f81a9d43d6b12cc001 \n",
            " \t   available transactions:  [] \n",
            " \t   balance:  0 \n",
            "\n",
            "\n",
            "\n",
            "outputs:\n",
            "\tamount:  20 \n",
            " \tid_tx:  6 \n",
            " \tspent:  False \n",
            "\n",
            "\twallet: \n",
            "\t   public:  5bf8162f54797354bba873f473f0065ce5108e21cee3870d069aba4ad37eaa21 \n",
            " \t   available transactions:  [6] \n",
            " \t   balance:  20 \n",
            "\n",
            "\n",
            "\n",
            "\tamount:  20 \n",
            " \tid_tx:  6 \n",
            " \tspent:  False \n",
            "\n",
            "\twallet: \n",
            "\t   public:  1217d76e89796d523a61815fb7d198db01d6c79386ee0bb6420c3f87fef5e063 \n",
            " \t   available transactions:  [3, 5, 6] \n",
            " \t   balance:  80 \n",
            "\n",
            "\n",
            "\n"
          ]
        }
      ]
    },
    {
      "cell_type": "code",
      "source": [
        "Block1 = Block([ttx2,ttx3,ttx4], Block0.genHash())\n",
        "Block1.describe()"
      ],
      "metadata": {
        "colab": {
          "base_uri": "https://localhost:8080/"
        },
        "id": "hDa4SxzkWQnt",
        "outputId": "b26b3c69-7c9c-4dcf-d7ba-00a46c5ffd3a"
      },
      "execution_count": 26,
      "outputs": [
        {
          "output_type": "stream",
          "name": "stdout",
          "text": [
            "Header: \n",
            "  prev_hash:  aaf0cac0f79346f79aa9b4b8126c254cee80871b812cdc10c9622098aa60b725 \n",
            "  merkle_root:  7a5d2983f416311b222c3d10089f54022856f395951c3549fb9013a1177e2867 \n",
            "  nounce:  3720664311 \n",
            " \n",
            "Body: \n",
            " Transactions: \n",
            "\t\n",
            "id:  4 \n",
            " block hash:  -1 \n",
            " inputs:\n",
            "\tInput not found\n",
            "outputs:\n",
            "\tamount:  50 \n",
            " \tid_tx:  4 \n",
            " \tspent:  True \n",
            "\n",
            "\twallet: \n",
            "\t   public:  de9a6e7558175562e25dba71834875f0f89a5e959dd94f13a1c2f0d91ba6f010 \n",
            " \t   available transactions:  [] \n",
            " \t   balance:  0 \n",
            "\n",
            "\n",
            "\n",
            "\t\n",
            "id:  5 \n",
            " block hash:  -1 \n",
            " inputs:\n",
            "\tamount:  50 \n",
            " \tid_tx:  4 \n",
            " \tspent:  True \n",
            "\n",
            "\twallet: \n",
            "\t   public:  de9a6e7558175562e25dba71834875f0f89a5e959dd94f13a1c2f0d91ba6f010 \n",
            " \t   available transactions:  [] \n",
            " \t   balance:  0 \n",
            "\n",
            "\n",
            "\n",
            "outputs:\n",
            "\tamount:  20 \n",
            " \tid_tx:  5 \n",
            " \tspent:  True \n",
            "\n",
            "\twallet: \n",
            "\t   public:  16831949036b6da4f8d8688af827e64ac3d1e24a218905f81a9d43d6b12cc001 \n",
            " \t   available transactions:  [] \n",
            " \t   balance:  0 \n",
            "\n",
            "\n",
            "\n",
            "\tamount:  30 \n",
            " \tid_tx:  5 \n",
            " \tspent:  False \n",
            "\n",
            "\twallet: \n",
            "\t   public:  1217d76e89796d523a61815fb7d198db01d6c79386ee0bb6420c3f87fef5e063 \n",
            " \t   available transactions:  [3, 5, 6] \n",
            " \t   balance:  80 \n",
            "\n",
            "\n",
            "\n",
            "\t\n",
            "id:  6 \n",
            " block hash:  -1 \n",
            " inputs:\n",
            "\tamount:  20 \n",
            " \tid_tx:  3 \n",
            " \tspent:  True \n",
            "\n",
            "\twallet: \n",
            "\t   public:  16831949036b6da4f8d8688af827e64ac3d1e24a218905f81a9d43d6b12cc001 \n",
            " \t   available transactions:  [] \n",
            " \t   balance:  0 \n",
            "\n",
            "\n",
            "\n",
            "\tamount:  20 \n",
            " \tid_tx:  5 \n",
            " \tspent:  True \n",
            "\n",
            "\twallet: \n",
            "\t   public:  16831949036b6da4f8d8688af827e64ac3d1e24a218905f81a9d43d6b12cc001 \n",
            " \t   available transactions:  [] \n",
            " \t   balance:  0 \n",
            "\n",
            "\n",
            "\n",
            "outputs:\n",
            "\tamount:  20 \n",
            " \tid_tx:  6 \n",
            " \tspent:  False \n",
            "\n",
            "\twallet: \n",
            "\t   public:  5bf8162f54797354bba873f473f0065ce5108e21cee3870d069aba4ad37eaa21 \n",
            " \t   available transactions:  [6] \n",
            " \t   balance:  20 \n",
            "\n",
            "\n",
            "\n",
            "\tamount:  20 \n",
            " \tid_tx:  6 \n",
            " \tspent:  False \n",
            "\n",
            "\twallet: \n",
            "\t   public:  1217d76e89796d523a61815fb7d198db01d6c79386ee0bb6420c3f87fef5e063 \n",
            " \t   available transactions:  [3, 5, 6] \n",
            " \t   balance:  80 \n",
            "\n",
            "\n",
            "\n"
          ]
        }
      ]
    },
    {
      "cell_type": "code",
      "source": [
        "long_chain.addBlock(Block1, 5)"
      ],
      "metadata": {
        "colab": {
          "base_uri": "https://localhost:8080/"
        },
        "id": "pHtAbSWvb--H",
        "outputId": "628b14d6-34e1-4190-d209-0126734e606f"
      },
      "execution_count": 27,
      "outputs": [
        {
          "output_type": "stream",
          "name": "stdout",
          "text": [
            "00000 ? --> 00000b5e900593fd3d38460311434c6b5a251744ecc9e4d726c5b472d197b2ce with 1985006597\n",
            "Block added\n"
          ]
        }
      ]
    },
    {
      "cell_type": "code",
      "source": [
        "long_chain.chain"
      ],
      "metadata": {
        "colab": {
          "base_uri": "https://localhost:8080/"
        },
        "id": "NtTN6PXLdFlX",
        "outputId": "914f91f2-c1c2-425f-fb10-ee2785128975"
      },
      "execution_count": 28,
      "outputs": [
        {
          "output_type": "execute_result",
          "data": {
            "text/plain": [
              "[<__main__.Block at 0x78e14021cb80>, <__main__.Block at 0x78e14021ea70>]"
            ]
          },
          "metadata": {},
          "execution_count": 28
        }
      ]
    },
    {
      "cell_type": "code",
      "source": [
        "long_chain.chain[1].describe()"
      ],
      "metadata": {
        "colab": {
          "base_uri": "https://localhost:8080/"
        },
        "id": "dOZ3rOW9dTJQ",
        "outputId": "dd3f1ac7-8534-483b-de93-cf2adeb0342c"
      },
      "execution_count": 29,
      "outputs": [
        {
          "output_type": "stream",
          "name": "stdout",
          "text": [
            "Header: \n",
            "  prev_hash:  aaf0cac0f79346f79aa9b4b8126c254cee80871b812cdc10c9622098aa60b725 \n",
            "  merkle_root:  7a5d2983f416311b222c3d10089f54022856f395951c3549fb9013a1177e2867 \n",
            "  nounce:  1985006597 \n",
            " \n",
            "Body: \n",
            " Transactions: \n",
            "\t\n",
            "id:  4 \n",
            " block hash:  ef7df8ed2f80c0afc2aa7c69411501764dcbc439c6ea5f1bce63065df9744bd5 \n",
            " inputs:\n",
            "\tInput not found\n",
            "outputs:\n",
            "\tamount:  50 \n",
            " \tid_tx:  4 \n",
            " \tspent:  True \n",
            "\n",
            "\twallet: \n",
            "\t   public:  de9a6e7558175562e25dba71834875f0f89a5e959dd94f13a1c2f0d91ba6f010 \n",
            " \t   available transactions:  [] \n",
            " \t   balance:  0 \n",
            "\n",
            "\n",
            "\n",
            "\t\n",
            "id:  5 \n",
            " block hash:  ef7df8ed2f80c0afc2aa7c69411501764dcbc439c6ea5f1bce63065df9744bd5 \n",
            " inputs:\n",
            "\tamount:  50 \n",
            " \tid_tx:  4 \n",
            " \tspent:  True \n",
            "\n",
            "\twallet: \n",
            "\t   public:  de9a6e7558175562e25dba71834875f0f89a5e959dd94f13a1c2f0d91ba6f010 \n",
            " \t   available transactions:  [] \n",
            " \t   balance:  0 \n",
            "\n",
            "\n",
            "\n",
            "outputs:\n",
            "\tamount:  20 \n",
            " \tid_tx:  5 \n",
            " \tspent:  True \n",
            "\n",
            "\twallet: \n",
            "\t   public:  16831949036b6da4f8d8688af827e64ac3d1e24a218905f81a9d43d6b12cc001 \n",
            " \t   available transactions:  [] \n",
            " \t   balance:  0 \n",
            "\n",
            "\n",
            "\n",
            "\tamount:  30 \n",
            " \tid_tx:  5 \n",
            " \tspent:  False \n",
            "\n",
            "\twallet: \n",
            "\t   public:  1217d76e89796d523a61815fb7d198db01d6c79386ee0bb6420c3f87fef5e063 \n",
            " \t   available transactions:  [3, 5, 6] \n",
            " \t   balance:  80 \n",
            "\n",
            "\n",
            "\n",
            "\t\n",
            "id:  6 \n",
            " block hash:  ef7df8ed2f80c0afc2aa7c69411501764dcbc439c6ea5f1bce63065df9744bd5 \n",
            " inputs:\n",
            "\tamount:  20 \n",
            " \tid_tx:  3 \n",
            " \tspent:  True \n",
            "\n",
            "\twallet: \n",
            "\t   public:  16831949036b6da4f8d8688af827e64ac3d1e24a218905f81a9d43d6b12cc001 \n",
            " \t   available transactions:  [] \n",
            " \t   balance:  0 \n",
            "\n",
            "\n",
            "\n",
            "\tamount:  20 \n",
            " \tid_tx:  5 \n",
            " \tspent:  True \n",
            "\n",
            "\twallet: \n",
            "\t   public:  16831949036b6da4f8d8688af827e64ac3d1e24a218905f81a9d43d6b12cc001 \n",
            " \t   available transactions:  [] \n",
            " \t   balance:  0 \n",
            "\n",
            "\n",
            "\n",
            "outputs:\n",
            "\tamount:  20 \n",
            " \tid_tx:  6 \n",
            " \tspent:  False \n",
            "\n",
            "\twallet: \n",
            "\t   public:  5bf8162f54797354bba873f473f0065ce5108e21cee3870d069aba4ad37eaa21 \n",
            " \t   available transactions:  [6] \n",
            " \t   balance:  20 \n",
            "\n",
            "\n",
            "\n",
            "\tamount:  20 \n",
            " \tid_tx:  6 \n",
            " \tspent:  False \n",
            "\n",
            "\twallet: \n",
            "\t   public:  1217d76e89796d523a61815fb7d198db01d6c79386ee0bb6420c3f87fef5e063 \n",
            " \t   available transactions:  [3, 5, 6] \n",
            " \t   balance:  80 \n",
            "\n",
            "\n",
            "\n"
          ]
        }
      ]
    }
  ]
}