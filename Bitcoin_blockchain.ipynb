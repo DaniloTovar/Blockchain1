{
  "nbformat": 4,
  "nbformat_minor": 0,
  "metadata": {
    "colab": {
      "provenance": [],
      "authorship_tag": "ABX9TyMRkzvQTxQonIrsptbN+M+/",
      "include_colab_link": true
    },
    "kernelspec": {
      "name": "python3",
      "display_name": "Python 3"
    },
    "language_info": {
      "name": "python"
    }
  },
  "cells": [
    {
      "cell_type": "markdown",
      "metadata": {
        "id": "view-in-github",
        "colab_type": "text"
      },
      "source": [
        "<a href=\"https://colab.research.google.com/github/DaniloTovar/Blockchain1/blob/main/Bitcoin_blockchain.ipynb\" target=\"_parent\"><img src=\"https://colab.research.google.com/assets/colab-badge.svg\" alt=\"Open In Colab\"/></a>"
      ]
    },
    {
      "cell_type": "code",
      "source": [
        "import numpy as np\n",
        "import hashlib as hlib\n",
        "import itertools"
      ],
      "metadata": {
        "id": "f3CJnYvu_n-S"
      },
      "execution_count": 10,
      "outputs": []
    },
    {
      "cell_type": "markdown",
      "source": [
        "## Funciones adicionales\n"
      ],
      "metadata": {
        "id": "HgERkRqS_2qF"
      }
    },
    {
      "cell_type": "code",
      "source": [
        "def hash(value):\n",
        "  \"\"\"\n",
        "  Encrypts 'value' using a SHA-256 algorithm and returns the result\n",
        "  \"\"\"\n",
        "  assert type(value) == str, \"Wrong input type, 'value' should be a String\"\n",
        "  return hlib.sha256(value.encode()).hexdigest()\n",
        "\n",
        "def hashList(input):\n",
        "  \"\"\"\n",
        "  Encrypts each element of 'input' using a SHA-256 algorithm\n",
        "  \"\"\"\n",
        "  assert type(input) == list, \"Wrong input type, 'input' should be a List\"\n",
        "  aux = []\n",
        "  for i in input:\n",
        "    try:\n",
        "      aux.append(hash(i))\n",
        "    except(AttributeError, TypeError):\n",
        "      raise AssertionError(\"List should only contain Strings\")\n",
        "  return aux\n",
        "\n",
        "def getRoot(transactions):\n",
        "  \"\"\"\n",
        "  Calculates the Merkle Root from a list 'transactions' using a SHA-256 algorithm\n",
        "  \"\"\"\n",
        "  assert type(transactions) == list, \"Wrong input type, 'transactions' should be a list\"\n",
        "  assert len(transactions) != 0, \"List of transactions cannot be empty\"\n",
        "\n",
        "  while(len(transactions)!= 1):\n",
        "    length = len(transactions)\n",
        "    next = []\n",
        "\n",
        "    if(np.mod(length,2)):\n",
        "      last = transactions[-1]\n",
        "      transactions = transactions.append(last)\n",
        "\n",
        "    for i in range(int(length/2)):\n",
        "      string = transactions[i+i] + transactions[i+i+1]\n",
        "      hash = hash(string)\n",
        "      next.append(hash)\n",
        "      # print(next)\n",
        "\n",
        "    transactions = next\n",
        "\n",
        "  return transactions[0]\n",
        "\n",
        "def genNounce(top):\n",
        "  \"\"\"\n",
        "  Generates a random number between 0 and 'top'\n",
        "  \"\"\"\n",
        "  assert type(top) == int, \"Wrong input type, 'top' should be a number\"\n",
        "  return int(np.random.random()*np.random.random()*top)"
      ],
      "metadata": {
        "id": "UTkgh_DH_5YM"
      },
      "execution_count": 9,
      "outputs": []
    },
    {
      "cell_type": "markdown",
      "source": [
        "## Clases a utilizar para la construcción de la blockchain"
      ],
      "metadata": {
        "id": "_GFBFnci_ICK"
      }
    },
    {
      "cell_type": "code",
      "source": [
        "class Wallet:\n",
        "  \"\"\"\n",
        "  \"\"\"\n",
        "  def __init__(self, private):\n",
        "    self.private = private\n",
        "    self.public = hash(private)\n",
        "    self.open_tx = []\n",
        "    self.balance = 0\n",
        "\n",
        "  def describe(self):\n",
        "    print(\"public: \", self.public,\"\\n\",\n",
        "          \"available transactions: \", self.open_tx,\"\\n\",\n",
        "          \"balance: \", self.balance,\"\\n\")"
      ],
      "metadata": {
        "id": "Ff3-wTQTKP64"
      },
      "execution_count": 38,
      "outputs": []
    },
    {
      "cell_type": "code",
      "source": [
        "class Output:\n",
        "  \"\"\"\n",
        "  \"\"\"\n",
        "  def __init__(self, amount, to):\n",
        "    assert type(to) == Wallet, \"Wrong destination, should be a 'Wallet'\"\n",
        "    self.amount = amount\n",
        "    self.to = to\n",
        "    self.id_tx = -1\n",
        "    self.spent = False"
      ],
      "metadata": {
        "id": "A2GkPdAs_ZOr"
      },
      "execution_count": 29,
      "outputs": []
    },
    {
      "cell_type": "code",
      "source": [
        "class Transaction:\n",
        "  \"\"\"\n",
        "  \"\"\"\n",
        "  # Id autoincremental comenzando en 1\n",
        "  id_tx = itertools.count(1)\n",
        "\n",
        "  # Constructor de una transaccion normal\n",
        "  def __init__(self, inputs, outputs):\n",
        "    self.id = next(Transaction.id_tx)\n",
        "\n",
        "    assert all((type(ins) == Output & ins.id_tx != self.id & ins.spent == False) for ins in inputs), \"List of inputs should only contain previous unspent 'Output' objects\"\n",
        "    assert all((type(out) == Output & out.id_tx == -1) for out in outputs), \"List of outputs should only contain new 'Output' objects\"\n",
        "\n",
        "    self.inputs = inputs\n",
        "    self.outputs = outputs\n",
        "    self.block_hash\n",
        "\n",
        "    # Actualizamos las wallets\n",
        "    try:\n",
        "      # Actualizamos los balance\n",
        "      for input in self.inputs:\n",
        "        check = input.to.balance - input.amount\n",
        "        if(check < 0):\n",
        "          raise ArithmeticError(\"Balance cannot be negative\")\n",
        "          break\n",
        "        input.to.balance -= input.amount\n",
        "\n",
        "      for output in self.outputs:\n",
        "        output.to.balance += output.amount\n",
        "\n",
        "      # Actualizamos la lista de trasacciones abiertas\n",
        "      for input in self.inputs:\n",
        "        input.to.open_tx.remove(input.id_tx)\n",
        "      for output in self.outputs:\n",
        "        output.to.open_tx.append(self.id)\n",
        "\n",
        "    except:\n",
        "      raise ArithmeticError(\"Sum of operations is invalid\")\n",
        "\n",
        "    for ins in inputs:\n",
        "      ins.spent = True        # Actualizamos los inputs como 'spent' cuando se genera esta transaccion\n",
        "\n",
        "    for out in outputs:\n",
        "      out.id_tx = self.id     # Actualizamos los outputs para relacionarlos a esta transaccion\n",
        "\n",
        "\n",
        "\n",
        "  # Constructor de un CoinBase\n",
        "  def __init__(self, wallet):\n",
        "    self.id = next(Transaction.id_tx)\n",
        "    self.inputs = 0\n",
        "    self.outputs = Output(50, wallet)\n",
        "    self.block_hash\n",
        "\n",
        "    self.outputs.to.balance += self.outputs.amount  # Actualizamos el balance de la wallet\n",
        "    self.outputs.to.open_tx.append(self.id)     # Actualizamos la lista de transacciones abiertas relacionadas a la wallet\n",
        "    self.outputs.id_tx = self.id     # Actualizamos el output para relacionarlo a esta transaccion\n"
      ],
      "metadata": {
        "id": "q9Krwlml_QvU"
      },
      "execution_count": 13,
      "outputs": []
    },
    {
      "cell_type": "code",
      "source": [
        "class Block:\n",
        "  \"\"\"\n",
        "  \"\"\"\n",
        "  def __init__(self, transactions, prev_hash):\n",
        "    assert all((type(tx) == Transaction) for tx in transactions), \"List of transactions should only contain 'Trasaction' objects\"\n",
        "\n",
        "    self.transactions = transactions\n",
        "    self.merkle_root = getRoot(transactions)\n",
        "    self.prev_hash = prev_hash\n",
        "    self.nounce = genNounce(10**10)\n",
        "\n",
        "    for tx in transactions:\n",
        "      tx.block_hash = self.genHash()\n",
        "\n",
        "  def getSelf(self):\n",
        "    return (\"Transactions: \", self.transactions,\"\\n\",\n",
        "            \"Root: \",self.merkle_root, \"\\n\",\n",
        "            \"Previous hash: \",self.prev_hash,\"\\n\",\n",
        "            \"Nounce: \",self.nounce,\"\\n\")\n",
        "\n",
        "  def getBody(self):\n",
        "    return (\"Transactions: \", self.transactions,\"\\n\")\n",
        "\n",
        "  def getHeader(self):\n",
        "    return (\"Root: \",self.merkle_root, \"\\n\",\n",
        "            \"Previous hash: \",self.prev_hash,\"\\n\",\n",
        "            \"Nounce: \",self.nounce,\"\\n\")\n",
        "\n",
        "  def genHash(self):\n",
        "    str_self = str(self.merkle_root) + str(self.prev_hash) + str(self.nounce)\n",
        "    return hash(self.toString())\n",
        "\n",
        "  def Validate(self):\n",
        "    for tx in self.transactions:\n",
        "      out_total_amount = sum([].append(out.amount) for out in tx.outputs[1:])   # Suma todos los valores de outputs excepto el CoinBase\n",
        "      in_total_amount = sum([].append(ins.amount) for ins in tx.inputs[1:])     # Suma todos los valores de inputs excepto el CoinBase\n",
        "      print(out_total_amount, in_total_amount)\n",
        "      return in_total_amount >= out_total_amount"
      ],
      "metadata": {
        "id": "cktKZVao_QFr"
      },
      "execution_count": 14,
      "outputs": []
    },
    {
      "cell_type": "code",
      "execution_count": 7,
      "metadata": {
        "id": "AiO1MSfR-kVv"
      },
      "outputs": [],
      "source": [
        "class Chain:\n",
        "  \"\"\"\n",
        "  \"\"\"\n",
        "  def __init__(self, chain):\n",
        "    self.chain = chain\n",
        "\n",
        "  def addBlock(self, block, difficulty_level):\n",
        "    assert type(difficulty_level) == int, \"Wrong type, 'difficulty_level' should be a integer\"\n",
        "    assert type(difficulty_level) >= 0, \"'difficulty_level' should not be negative\"\n",
        "    assert type(block) == Block, \"Wrong type, 'block' should be a Block\"\n",
        "\n",
        "    assert block.Validate() == True, \"Invalid block, sum of transaction operations doesnt match\"\n",
        "\n",
        "    goal = str(\"0\"*difficulty_level)\n",
        "    hashed_nounce = hash(str(block.nounce))\n",
        "    while(not(hashed_nounce.startswith(goal))):\n",
        "      block.nounce = genNounce\n",
        "      hashed_nounce = hash(str(block.nounce))\n",
        "    print(goal,\"? -->\", hashed_nounce, \"with\", block.nounce)\n",
        "    self.chain.append(block)\n",
        "    print(\"Block added\")\n",
        ""
      ]
    },
    {
      "cell_type": "markdown",
      "source": [
        "## Inicialización de la blockchain"
      ],
      "metadata": {
        "id": "ebq4yKIP_ct7"
      }
    },
    {
      "cell_type": "markdown",
      "source": [
        "Creación de Wallets vacias"
      ],
      "metadata": {
        "id": "Nv_B1Q-OnkNc"
      }
    },
    {
      "cell_type": "code",
      "source": [
        "Wallet1 = Wallet(\"Pepito123456\")\n",
        "Wallet2 = Wallet(\"Edison147852\")\n",
        "Wallet3 = Wallet(\"Fernando987\")\n",
        "Wallet4 = Wallet(\"Ricardo456456\")\n",
        "\n",
        "Wallet1.describe()\n",
        "Wallet2.describe()\n",
        "Wallet3.describe()\n",
        "Wallet4.describe()"
      ],
      "metadata": {
        "colab": {
          "base_uri": "https://localhost:8080/"
        },
        "id": "gDEGus4AUX4Y",
        "outputId": "38cac59d-e60a-47f1-9bbc-59765e3e79ff"
      },
      "execution_count": 39,
      "outputs": [
        {
          "output_type": "stream",
          "name": "stdout",
          "text": [
            "public:  1217d76e89796d523a61815fb7d198db01d6c79386ee0bb6420c3f87fef5e063 \n",
            " available transactions:  [] \n",
            " balance:  0 \n",
            "\n",
            "public:  16831949036b6da4f8d8688af827e64ac3d1e24a218905f81a9d43d6b12cc001 \n",
            " available transactions:  [] \n",
            " balance:  0 \n",
            "\n",
            "public:  de9a6e7558175562e25dba71834875f0f89a5e959dd94f13a1c2f0d91ba6f010 \n",
            " available transactions:  [] \n",
            " balance:  0 \n",
            "\n",
            "public:  5bf8162f54797354bba873f473f0065ce5108e21cee3870d069aba4ad37eaa21 \n",
            " available transactions:  [] \n",
            " balance:  0 \n",
            "\n"
          ]
        }
      ]
    },
    {
      "cell_type": "markdown",
      "source": [
        "Modificacion arbitraria de los 'balace' de las wallets para realizar el ejemplo"
      ],
      "metadata": {
        "id": "sT4hl_32o2sj"
      }
    },
    {
      "cell_type": "code",
      "source": [
        "Wallet1.balance = 20\n",
        "Wallet2.balance = 100\n",
        "Wallet3.balance = 50\n",
        "Wallet4.balance = 30\n",
        "\n",
        "Wallet1.describe()\n",
        "Wallet2.describe()\n",
        "Wallet3.describe()\n",
        "Wallet4.describe()"
      ],
      "metadata": {
        "colab": {
          "base_uri": "https://localhost:8080/"
        },
        "id": "XaviuXSlo18W",
        "outputId": "12426e5b-f1be-4c13-ee24-0fe96a3b33b9"
      },
      "execution_count": 40,
      "outputs": [
        {
          "output_type": "stream",
          "name": "stdout",
          "text": [
            "public:  1217d76e89796d523a61815fb7d198db01d6c79386ee0bb6420c3f87fef5e063 \n",
            " available transactions:  [] \n",
            " balance:  20 \n",
            "\n",
            "public:  16831949036b6da4f8d8688af827e64ac3d1e24a218905f81a9d43d6b12cc001 \n",
            " available transactions:  [] \n",
            " balance:  100 \n",
            "\n",
            "public:  de9a6e7558175562e25dba71834875f0f89a5e959dd94f13a1c2f0d91ba6f010 \n",
            " available transactions:  [] \n",
            " balance:  50 \n",
            "\n",
            "public:  5bf8162f54797354bba873f473f0065ce5108e21cee3870d069aba4ad37eaa21 \n",
            " available transactions:  [] \n",
            " balance:  30 \n",
            "\n"
          ]
        }
      ]
    },
    {
      "cell_type": "markdown",
      "source": [
        "Creación de un conjunto de transacciones"
      ],
      "metadata": {
        "id": "1j-JAPappYeq"
      }
    },
    {
      "cell_type": "code",
      "source": [],
      "metadata": {
        "id": "ME9Zli-Tpcm2"
      },
      "execution_count": null,
      "outputs": []
    },
    {
      "cell_type": "markdown",
      "source": [
        "Creación de un bloque 'inicial'"
      ],
      "metadata": {
        "id": "nVy-0FrZpSv0"
      }
    },
    {
      "cell_type": "code",
      "source": [],
      "metadata": {
        "id": "5wR_yLWnpTA_"
      },
      "execution_count": null,
      "outputs": []
    },
    {
      "cell_type": "markdown",
      "source": [
        "Cración de una cadena vacía"
      ],
      "metadata": {
        "id": "zoYIAhfXpsny"
      }
    },
    {
      "cell_type": "code",
      "source": [
        "long_chain = Chain([])\n",
        "long_chain.chain"
      ],
      "metadata": {
        "colab": {
          "base_uri": "https://localhost:8080/"
        },
        "id": "emt1Sp5Jpr7v",
        "outputId": "bd8e31ef-236e-4e11-d01c-d19a48b75f0e"
      },
      "execution_count": 42,
      "outputs": [
        {
          "output_type": "execute_result",
          "data": {
            "text/plain": [
              "[]"
            ]
          },
          "metadata": {},
          "execution_count": 42
        }
      ]
    },
    {
      "cell_type": "markdown",
      "source": [
        "Añadimos el bloque a una cadena"
      ],
      "metadata": {
        "id": "Fu7938Uzpenf"
      }
    },
    {
      "cell_type": "code",
      "source": [],
      "metadata": {
        "id": "MFVmBufapeEb"
      },
      "execution_count": null,
      "outputs": []
    },
    {
      "cell_type": "markdown",
      "source": [
        "## Simulación de la interacción en la blockchain"
      ],
      "metadata": {
        "id": "WVc-S3Nf_hBC"
      }
    },
    {
      "cell_type": "code",
      "source": [],
      "metadata": {
        "id": "8a8Q54Af_mpL"
      },
      "execution_count": null,
      "outputs": []
    }
  ]
}