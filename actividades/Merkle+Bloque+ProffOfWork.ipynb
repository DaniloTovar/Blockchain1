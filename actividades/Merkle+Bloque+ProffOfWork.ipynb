{
  "nbformat": 4,
  "nbformat_minor": 0,
  "metadata": {
    "colab": {
      "provenance": [],
      "authorship_tag": "ABX9TyP9BQzJHy5cbO/A9q0JWatX",
      "include_colab_link": true
    },
    "kernelspec": {
      "name": "python3",
      "display_name": "Python 3"
    },
    "language_info": {
      "name": "python"
    }
  },
  "cells": [
    {
      "cell_type": "markdown",
      "metadata": {
        "id": "view-in-github",
        "colab_type": "text"
      },
      "source": [
        "<a href=\"https://colab.research.google.com/github/DaniloTovar/Blockchain1/blob/main/actividades/Merkle%2BBloque%2BProffOfWork.ipynb\" target=\"_parent\"><img src=\"https://colab.research.google.com/assets/colab-badge.svg\" alt=\"Open In Colab\"/></a>"
      ]
    },
    {
      "cell_type": "code",
      "execution_count": null,
      "metadata": {
        "colab": {
          "base_uri": "https://localhost:8080/",
          "height": 73
        },
        "id": "NW3Bx7Epmcpj",
        "outputId": "0c7b70d5-229c-41ea-f689-3782a72e8240"
      },
      "outputs": [
        {
          "output_type": "stream",
          "name": "stdout",
          "text": [
            "['44eb9733723a9ea5ee003fb94d5f6b09116eb80bcc1277c04d66366324d2fac4', '3bf8b8ccb2b6fd67b6d40a3f34e9002a5cca043f6f464c587682170d0d32539f', '4d242d3ef204ca7ef7f000a6f0c0aefbb928eaa3e7e21b15fe05a08b365f1ff1', '4ae9e1ca5bdce98726fa242946926236c4124b629684e05415bb648d3235c895', '3bf8b8ccb2b6fd67b6d40a3f34e9002a5cca043f6f464c587682170d0d32539f']\n"
          ]
        },
        {
          "output_type": "execute_result",
          "data": {
            "text/plain": [
              "'c59f9107c85df6148d1d767db15ee9f9b4f9d8660267f42079072b58583ea912'"
            ],
            "application/vnd.google.colaboratory.intrinsic+json": {
              "type": "string"
            }
          },
          "metadata": {},
          "execution_count": 1
        }
      ],
      "source": [
        "import hashlib as hl\n",
        "import numpy as np\n",
        "\n",
        "## Función para realizar hash de una lista, utilizando sha256\n",
        "def HashList(Tx_List):\n",
        "  assert type(Tx_List) == list, \"Wrong input type, must be a list\"\n",
        "  hashed_list = []\n",
        "  for string in Tx_List:\n",
        "    hashed_list.append(hl.sha256(string.encode()).hexdigest())\n",
        "  return hashed_list\n",
        "\n",
        "## Función para obtener el root hash a traves de un MerkleTree, utilizando una lista de hashes ordenados\n",
        "def MerkleTree(transactions):\n",
        "  assert type(transactions) == list, \"Wrong input type, must be a list\"\n",
        "  assert len(transactions) != 0, \"List of transactions cannot be empty\"\n",
        "\n",
        "  length = len(transactions)\n",
        "\n",
        "  if(length == 1):\n",
        "    return transactions[0]\n",
        "\n",
        "  odd = np.mod(length,2)\n",
        "  next = []\n",
        "  last = 0\n",
        "\n",
        "  if(odd):\n",
        "    last = transactions[-1]\n",
        "    transactions = transactions[:-1]\n",
        "\n",
        "  for i in range(int(length/2)):\n",
        "    string = transactions[i+i] + transactions[i+i+1]\n",
        "    hash = hl.sha256(string.encode()).hexdigest()\n",
        "    next.append(hash)\n",
        "    # print(next)\n",
        "\n",
        "  if(last != 0):\n",
        "    next.append(last)\n",
        "    # print(\"Add:\", next)\n",
        "\n",
        "  result = MerkleTree(next)\n",
        "  return result\n",
        "\n",
        "## Checking the function\n",
        "\n",
        "tx0 = \"Juan le envio 2 bitcoins a Pedro\"\n",
        "tx1 = \"Maria le envio 3 bitcoins a Pepe\"\n",
        "tx2 = \"Cristian le envio 2 bitcoins a Pedro\"\n",
        "tx3 = \"Pedro le envio 4 bitcoins a Valeria\"\n",
        "\n",
        "transactions0 = [tx0,tx1,tx2,tx3,tx1]\n",
        "hashed_transactions0 = HashList(transactions0)\n",
        "print(hashed_transactions0)\n",
        "MerkleTree(hashed_transactions0)"
      ]
    },
    {
      "cell_type": "code",
      "source": [
        "## Creación del bloque\n",
        "class Block:\n",
        "  def __init__(self, transactions, prev_hash):\n",
        "    self.transactions = transactions\n",
        "    self.root = MerkleTree(HashList(transactions))\n",
        "    self.prev_hash = prev_hash\n",
        "    self.nounce = int(np.random.random()*np.random.random()*100000)\n",
        "\n",
        "  def getAll(self):\n",
        "    return(print(\"Transactions: \", self.transactions,\"\\n\",\n",
        "                 \"Root: \",self.root, \"\\n\",\n",
        "                 \"Previous hash: \",self.prev_hash,\"\\n\",\n",
        "                 \"Nounce: \",self.nounce,\"\\n\"))\n",
        "  def __str__(self):\n",
        "    t = \"\"\n",
        "    for i in HashList(self.transactions):\n",
        "      t = t + i\n",
        "    # print(t)\n",
        "    return t + self.root + self.prev_hash + str(self.nounce)\n",
        "\n",
        "genesis_hash = hl.sha256((\"000000000\").encode()).hexdigest()\n",
        "block0 = Block(transactions0, genesis_hash)\n",
        "block0.getAll()\n",
        "\n",
        "\n",
        "prev_hash = (block0.__str__())\n",
        "prev_hash = hl.sha256(prev_hash.encode()).hexdigest()\n",
        "prev_hash"
      ],
      "metadata": {
        "id": "DvJpxfSgglVp",
        "colab": {
          "base_uri": "https://localhost:8080/",
          "height": 122
        },
        "outputId": "4a49dfbb-0cba-4eae-eccc-cd2db99ad4e5"
      },
      "execution_count": null,
      "outputs": [
        {
          "output_type": "stream",
          "name": "stdout",
          "text": [
            "Transactions:  ['Juan le envio 2 bitcoins a Pedro', 'Maria le envio 3 bitcoins a Pepe', 'Cristian le envio 2 bitcoins a Pedro', 'Pedro le envio 4 bitcoins a Valeria', 'Maria le envio 3 bitcoins a Pepe'] \n",
            " Root:  c59f9107c85df6148d1d767db15ee9f9b4f9d8660267f42079072b58583ea912 \n",
            " Previous hash:  f120bb5698d520c5691b6d603a00bfd662d13bf177a04571f9d10c0745dfa2a5 \n",
            " Nounce:  29643 \n",
            "\n"
          ]
        },
        {
          "output_type": "execute_result",
          "data": {
            "text/plain": [
              "'4db4117f7582a84b772caeafbbac467cc7d2623a47415dcf015dd460a87ffcc9'"
            ],
            "application/vnd.google.colaboratory.intrinsic+json": {
              "type": "string"
            }
          },
          "metadata": {},
          "execution_count": 2
        }
      ]
    },
    {
      "cell_type": "markdown",
      "source": [
        "Tarea no calificable: implementar el \"proof of work\"\n",
        "\n",
        "Lo único que tienen que hacer es cambiar el nounce hasta que el hash del bloque tenga el número de ceros que ustedes entraron como parámetro. Recomendacion: probar con dificultad de 2 a 5 ceros al inicio del hash"
      ],
      "metadata": {
        "id": "9E4XC86OMUaS"
      }
    },
    {
      "cell_type": "code",
      "source": [
        "def ProffWork(n_zeros, block):\n",
        "  goal = str(\"0\"*n_zeros)\n",
        "  hashed_nounce = str(hl.sha256((str(block.nounce)).encode()).hexdigest())\n",
        "  while(not(hashed_nounce.startswith(goal))):\n",
        "    block.nounce = int(np.random.random()*np.random.random()*(100000000))\n",
        "    hashed_nounce = str(hl.sha256((str(block.nounce)).encode()).hexdigest())\n",
        "  print(goal,\"? -->\", hashed_nounce, \"with\", block.nounce)\n",
        "  print(\"Block added\")\n",
        "\n",
        "block1 = Block([tx0,tx1,tx2], prev_hash)\n",
        "ProffWork(2,block1)\n",
        "ProffWork(3,block1)\n",
        "ProffWork(4,block1)\n",
        "ProffWork(5,block1)\n",
        "ProffWork(6,block1)"
      ],
      "metadata": {
        "colab": {
          "base_uri": "https://localhost:8080/"
        },
        "id": "VY7ebROkNwoH",
        "outputId": "10c3f8c6-bda6-4044-8712-5a16c0a7303f"
      },
      "execution_count": null,
      "outputs": [
        {
          "output_type": "stream",
          "name": "stdout",
          "text": [
            "00 ? --> 0055e6fb95053e07c204ba869408beba9b378d4fa1708657689f8175cbcb0dd0 with 4761962\n",
            "Block added\n",
            "000 ? --> 000cb041e7a7a7df80e67f6ca536bee7d88a90cdcc8819738878952a1b1df417 with 5282219\n",
            "Block added\n",
            "0000 ? --> 0000ccabed0ef076971697280a59da5438806623edef8b14975912de719ec8b8 with 4886892\n",
            "Block added\n",
            "00000 ? --> 0000088e50ff1bb16b485b8b6aebb989babb29bcfd5a6d1f0a72131fea747b46 with 2294239\n",
            "Block added\n",
            "000000 ? --> 0000000399c6aea5ad0c709a9bc331a3ed6494702bd1d129d8c817a0257a1462 with 665782\n",
            "Block added\n"
          ]
        }
      ]
    },
    {
      "cell_type": "code",
      "source": [],
      "metadata": {
        "id": "MkoU8XQ8bpOZ"
      },
      "execution_count": null,
      "outputs": []
    }
  ]
}